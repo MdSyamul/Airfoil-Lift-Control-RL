{
 "cells": [
  {
   "cell_type": "markdown",
   "metadata": {},
   "source": [
    "### Import"
   ]
  },
  {
   "cell_type": "code",
   "execution_count": 48,
   "metadata": {},
   "outputs": [],
   "source": [
    "import gym\n",
    "import numpy as np\n",
    "import matplotlib.pyplot as plt\n",
    "import tensorflow as tf\n",
    "from gym import spaces"
   ]
  },
  {
   "cell_type": "markdown",
   "metadata": {},
   "source": [
    "### Custom Environment"
   ]
  },
  {
   "cell_type": "code",
   "execution_count": 51,
   "metadata": {},
   "outputs": [],
   "source": [
    "class AirfoilControlEnv(gym.Env):\n",
    "    def __init__(self, model_path):\n",
    "        super(AirfoilControlEnv, self).__init__()\n",
    "        \n",
    "        # Load the trained DNN model\n",
    "        self.model = tf.keras.models.load_model(model_path)\n",
    "        \n",
    "        # State Space: Discrete Mach numbers and discrete target lift coefficients\n",
    "        self.mach_values = np.arange(0.17, .31, 0.01)\n",
    "        self.target_cl_values = np.arange(-0.5, 2.0, 0.1)\n",
    "        \n",
    "        self.num_mach_states = len(self.mach_values)\n",
    "        self.num_cl_states = len(self.target_cl_values)\n",
    "        \n",
    "        self.observation_space = spaces.MultiDiscrete([\n",
    "            self.num_mach_states,  # Mach number (discrete indices)\n",
    "            self.num_cl_states     # Target Lift Coefficient (discrete indices)\n",
    "        ])\n",
    "        \n",
    "        # Action Space: Discrete angles of attack from -4.5° to 15.8° with 0.1° increments\n",
    "        self.angle_of_attack_values = np.arange(-4.5, 15.9, 0.25)\n",
    "        self.action_space = spaces.Discrete(len(self.angle_of_attack_values))\n",
    "        \n",
    "        # Initial state\n",
    "        self.state = None\n",
    "    \n",
    "    def reset(self):\n",
    "        \"\"\"Reset environment state.\"\"\"\n",
    "        # Randomly select indices for Mach and Target Lift Coefficient\n",
    "        mach_index = np.random.choice(self.num_mach_states)\n",
    "        target_cl_index = np.random.choice(self.num_cl_states)\n",
    "        \n",
    "        self.state = np.array([\n",
    "            mach_index, \n",
    "            target_cl_index\n",
    "        ], dtype=np.int32)\n",
    "        \n",
    "        return self.state\n",
    "    \n",
    "    def step(self, state: tuple, action: int):\n",
    "        \"\"\"Execute an action.\"\"\"\n",
    "        angle_of_attack = self.angle_of_attack_values[action]\n",
    "        \n",
    "        # Get actual Mach and Target Lift Coefficient values\n",
    "        mach = self.mach_values[state[0]]\n",
    "        target_cl = self.target_cl_values[state[1]]\n",
    "        \n",
    "        # Predict Lift (CL) using the DNN model\n",
    "        predicted_cl = self.model.predict(np.array([[mach, angle_of_attack]]), verbose=0)[0][0]\n",
    "        \n",
    "        # Reward based on proximity to target lift coefficient\n",
    "        error = abs(predicted_cl - target_cl)\n",
    "        reward = -error  # Negative error as reward\n",
    "        \n",
    "        '''# Done condition\n",
    "        done = error < 0.01  # Episode ends when error is minimal\n",
    "        '''\n",
    "        done = None\n",
    "\n",
    "        # State remains unchanged\n",
    "        self.state = np.array([\n",
    "            state[0], \n",
    "            state[1]\n",
    "        ], dtype=np.int32)\n",
    "        \n",
    "        return self.state, reward, done, {}\n",
    "    \n",
    "    def render(self, mode='human'):\n",
    "        mach_index, target_cl_index = self.state\n",
    "        mach = self.mach_values[mach_index]\n",
    "        target_cl = self.target_cl_values[target_cl_index]\n",
    "        print(f\"State: Mach={mach:.2f}, Target CL={target_cl:.2f}\")"
   ]
  },
  {
   "cell_type": "markdown",
   "metadata": {},
   "source": [
    "### Checking"
   ]
  },
  {
   "cell_type": "code",
   "execution_count": 52,
   "metadata": {},
   "outputs": [
    {
     "name": "stdout",
     "output_type": "stream",
     "text": [
      "[14 25] 82\n"
     ]
    }
   ],
   "source": [
    "env = AirfoilControlEnv(model_path=\"best_weights.keras\")\n",
    "print(env.observation_space.nvec, env.action_space.n)\n",
    "# print(env.reset())\n",
    "# print(env.step(0))\n",
    "# env.render()"
   ]
  }
 ],
 "metadata": {
  "kernelspec": {
   "display_name": "Python 3",
   "language": "python",
   "name": "python3"
  },
  "language_info": {
   "codemirror_mode": {
    "name": "ipython",
    "version": 3
   },
   "file_extension": ".py",
   "mimetype": "text/x-python",
   "name": "python",
   "nbconvert_exporter": "python",
   "pygments_lexer": "ipython3",
   "version": "3.10.11"
  }
 },
 "nbformat": 4,
 "nbformat_minor": 2
}
